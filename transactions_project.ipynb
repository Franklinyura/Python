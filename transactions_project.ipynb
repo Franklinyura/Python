{
 "cells": [
  {
   "attachments": {},
   "cell_type": "markdown",
   "id": "e6bd69f2",
   "metadata": {},
   "source": [
    "# Mid-Course Project\n",
    "\n",
    "Hi There, and thanks for your help. If you're reading this you've been selected to help on a secret initiative.\n",
    "\n",
    "You will be helping us analyze a portion of data from a company we want to acquire, which could greatly improve the fortunes of Maven Mega Mart.\n",
    "\n",
    "We'll be working with `project_transactions.csv` and briefly take a look at `product.csv`.\n",
    "\n",
    "First, read in the transactions data and explore it.\n",
    "\n",
    "* Take a look at the raw data, the datatypes, and cast `DAY`, `QUANTITY`, `STORE_ID`, and `WEEK_NO` columns to the smallest appropriate datatype. Check the memory reduction by doing so.\n",
    "* Is there any missing data?\n",
    "* How many unique households and products are there in the data? The fields household_key and Product_ID will help here."
   ]
  },
  {
   "cell_type": "code",
   "execution_count": 2,
   "id": "048c011c",
   "metadata": {},
   "outputs": [],
   "source": [
    "import pandas as pd\n",
    "import numpy as np"
   ]
  },
  {
   "cell_type": "code",
   "execution_count": 3,
   "id": "c019ac8e",
   "metadata": {},
   "outputs": [],
   "source": [
    "transactions = pd.read_csv(\"../project_data/project_transactions.csv\")"
   ]
  },
  {
   "cell_type": "code",
   "execution_count": 5,
   "id": "20749686",
   "metadata": {},
   "outputs": [
    {
     "data": {
      "text/html": [
       "<div>\n",
       "<style scoped>\n",
       "    .dataframe tbody tr th:only-of-type {\n",
       "        vertical-align: middle;\n",
       "    }\n",
       "\n",
       "    .dataframe tbody tr th {\n",
       "        vertical-align: top;\n",
       "    }\n",
       "\n",
       "    .dataframe thead th {\n",
       "        text-align: right;\n",
       "    }\n",
       "</style>\n",
       "<table border=\"1\" class=\"dataframe\">\n",
       "  <thead>\n",
       "    <tr style=\"text-align: right;\">\n",
       "      <th></th>\n",
       "      <th>household_key</th>\n",
       "      <th>BASKET_ID</th>\n",
       "      <th>DAY</th>\n",
       "      <th>PRODUCT_ID</th>\n",
       "      <th>QUANTITY</th>\n",
       "      <th>SALES_VALUE</th>\n",
       "      <th>STORE_ID</th>\n",
       "      <th>RETAIL_DISC</th>\n",
       "      <th>WEEK_NO</th>\n",
       "      <th>COUPON_DISC</th>\n",
       "      <th>COUPON_MATCH_DISC</th>\n",
       "    </tr>\n",
       "  </thead>\n",
       "  <tbody>\n",
       "    <tr>\n",
       "      <th>0</th>\n",
       "      <td>1364</td>\n",
       "      <td>26984896261</td>\n",
       "      <td>1</td>\n",
       "      <td>842930</td>\n",
       "      <td>1</td>\n",
       "      <td>2.19</td>\n",
       "      <td>31742</td>\n",
       "      <td>0.00</td>\n",
       "      <td>1</td>\n",
       "      <td>0.0</td>\n",
       "      <td>0.0</td>\n",
       "    </tr>\n",
       "    <tr>\n",
       "      <th>1</th>\n",
       "      <td>1364</td>\n",
       "      <td>26984896261</td>\n",
       "      <td>1</td>\n",
       "      <td>897044</td>\n",
       "      <td>1</td>\n",
       "      <td>2.99</td>\n",
       "      <td>31742</td>\n",
       "      <td>-0.40</td>\n",
       "      <td>1</td>\n",
       "      <td>0.0</td>\n",
       "      <td>0.0</td>\n",
       "    </tr>\n",
       "    <tr>\n",
       "      <th>2</th>\n",
       "      <td>1364</td>\n",
       "      <td>26984896261</td>\n",
       "      <td>1</td>\n",
       "      <td>920955</td>\n",
       "      <td>1</td>\n",
       "      <td>3.09</td>\n",
       "      <td>31742</td>\n",
       "      <td>0.00</td>\n",
       "      <td>1</td>\n",
       "      <td>0.0</td>\n",
       "      <td>0.0</td>\n",
       "    </tr>\n",
       "    <tr>\n",
       "      <th>3</th>\n",
       "      <td>1364</td>\n",
       "      <td>26984896261</td>\n",
       "      <td>1</td>\n",
       "      <td>937406</td>\n",
       "      <td>1</td>\n",
       "      <td>2.50</td>\n",
       "      <td>31742</td>\n",
       "      <td>-0.99</td>\n",
       "      <td>1</td>\n",
       "      <td>0.0</td>\n",
       "      <td>0.0</td>\n",
       "    </tr>\n",
       "    <tr>\n",
       "      <th>4</th>\n",
       "      <td>1364</td>\n",
       "      <td>26984896261</td>\n",
       "      <td>1</td>\n",
       "      <td>981760</td>\n",
       "      <td>1</td>\n",
       "      <td>0.60</td>\n",
       "      <td>31742</td>\n",
       "      <td>-0.79</td>\n",
       "      <td>1</td>\n",
       "      <td>0.0</td>\n",
       "      <td>0.0</td>\n",
       "    </tr>\n",
       "  </tbody>\n",
       "</table>\n",
       "</div>"
      ],
      "text/plain": [
       "   household_key    BASKET_ID  DAY  PRODUCT_ID  QUANTITY  SALES_VALUE   \n",
       "0           1364  26984896261    1      842930         1         2.19  \\\n",
       "1           1364  26984896261    1      897044         1         2.99   \n",
       "2           1364  26984896261    1      920955         1         3.09   \n",
       "3           1364  26984896261    1      937406         1         2.50   \n",
       "4           1364  26984896261    1      981760         1         0.60   \n",
       "\n",
       "   STORE_ID  RETAIL_DISC  WEEK_NO  COUPON_DISC  COUPON_MATCH_DISC  \n",
       "0     31742         0.00        1          0.0                0.0  \n",
       "1     31742        -0.40        1          0.0                0.0  \n",
       "2     31742         0.00        1          0.0                0.0  \n",
       "3     31742        -0.99        1          0.0                0.0  \n",
       "4     31742        -0.79        1          0.0                0.0  "
      ]
     },
     "execution_count": 5,
     "metadata": {},
     "output_type": "execute_result"
    }
   ],
   "source": [
    "transactions.head()"
   ]
  },
  {
   "cell_type": "code",
   "execution_count": 6,
   "id": "7ca4fd6d",
   "metadata": {},
   "outputs": [],
   "source": [
    "transactions= transactions.astype(\n",
    "    {'DAY':'int16',\n",
    "     'QUANTITY':'int16',\n",
    "     'STORE_ID':'int16',\n",
    "     'WEEK_NO':'int8'\n",
    "     }\n",
    ")"
   ]
  },
  {
   "cell_type": "code",
   "execution_count": 61,
   "id": "4c10e5f5",
   "metadata": {},
   "outputs": [
    {
     "name": "stdout",
     "output_type": "stream",
     "text": [
      "<class 'pandas.core.frame.DataFrame'>\n",
      "RangeIndex: 2146311 entries, 0 to 2146310\n",
      "Data columns (total 11 columns):\n",
      " #   Column             Dtype  \n",
      "---  ------             -----  \n",
      " 0   household_key      int64  \n",
      " 1   BASKET_ID          int64  \n",
      " 2   DAY                int16  \n",
      " 3   PRODUCT_ID         int64  \n",
      " 4   QUANTITY           int16  \n",
      " 5   SALES_VALUE        float64\n",
      " 6   STORE_ID           int16  \n",
      " 7   RETAIL_DISC        float64\n",
      " 8   WEEK_NO            int8   \n",
      " 9   COUPON_DISC        float64\n",
      " 10  COUPON_MATCH_DISC  float64\n",
      "dtypes: float64(4), int16(3), int64(3), int8(1)\n",
      "memory usage: 129.0 MB\n"
     ]
    }
   ],
   "source": [
    "transactions.info(memory_usage=\"deep\")"
   ]
  },
  {
   "cell_type": "code",
   "execution_count": 62,
   "id": "22fb8381",
   "metadata": {},
   "outputs": [
    {
     "data": {
      "text/plain": [
       "household_key        0\n",
       "BASKET_ID            0\n",
       "DAY                  0\n",
       "PRODUCT_ID           0\n",
       "QUANTITY             0\n",
       "SALES_VALUE          0\n",
       "STORE_ID             0\n",
       "RETAIL_DISC          0\n",
       "WEEK_NO              0\n",
       "COUPON_DISC          0\n",
       "COUPON_MATCH_DISC    0\n",
       "dtype: int64"
      ]
     },
     "execution_count": 62,
     "metadata": {},
     "output_type": "execute_result"
    }
   ],
   "source": [
    "transactions.isnull().sum()"
   ]
  },
  {
   "cell_type": "code",
   "execution_count": 63,
   "id": "c6fdf78f",
   "metadata": {},
   "outputs": [
    {
     "data": {
      "text/plain": [
       "household_key          2099\n",
       "BASKET_ID            232939\n",
       "DAY                     711\n",
       "PRODUCT_ID            84138\n",
       "QUANTITY              10593\n",
       "SALES_VALUE            5327\n",
       "STORE_ID                526\n",
       "RETAIL_DISC            2279\n",
       "WEEK_NO                 102\n",
       "COUPON_DISC             370\n",
       "COUPON_MATCH_DISC        79\n",
       "dtype: int64"
      ]
     },
     "execution_count": 63,
     "metadata": {},
     "output_type": "execute_result"
    }
   ],
   "source": [
    "transactions.nunique()"
   ]
  },
  {
   "attachments": {},
   "cell_type": "markdown",
   "id": "42983a48",
   "metadata": {},
   "source": [
    "## Column Creation\n",
    "\n",
    "Create two columns:\n",
    "\n",
    "* A column that captures the `total_discount` by row (sum of `RETAIL_DISC`, `COUPON_DISC`)\n",
    "* The percentage disount (`total_discount` / `SALES_VALUE`). Make sure this is positive (try `.abs()`).\n",
    "* If the percentage discount is greater than 1, set it equal to 1. If it is less than 0, set it to 0. \n",
    "* Drop the individual discount columns (`RETAIL_DISC`, `COUPON_DISC`, `COUPON_MATCH_DISC`).\n",
    "\n",
    "Feel free to overwrite the existing transaction DataFrame after making the modifications above."
   ]
  },
  {
   "cell_type": "code",
   "execution_count": 7,
   "id": "e0af83c4",
   "metadata": {},
   "outputs": [],
   "source": [
    "transactions = (\n",
    "    transactions\n",
    "    .assign(\n",
    "        total_discount = transactions['RETAIL_DISC'] + transactions['COUPON_DISC'],\n",
    "        percentage_discount = (lambda x: (x[\"total_discount\"] / x[\"SALES_VALUE\"]).abs())\n",
    "        )\n",
    "    .drop(columns=['RETAIL_DISC','COUPON_DISC','COUPON_MATCH_DISC'])    \n",
    "    )"
   ]
  },
  {
   "cell_type": "code",
   "execution_count": 8,
   "id": "17339578",
   "metadata": {},
   "outputs": [],
   "source": [
    "transactions[\"percentage_discount\"] = (transactions[\"percentage_discount\"]\n",
    "                                       .where(transactions[\"percentage_discount\"] < 1, 1.0)\n",
    "                                       .where(transactions[\"percentage_discount\"] > 0, 0)\n",
    "                                      )"
   ]
  },
  {
   "cell_type": "code",
   "execution_count": 69,
   "id": "da7084f0",
   "metadata": {},
   "outputs": [
    {
     "data": {
      "text/html": [
       "<div>\n",
       "<style scoped>\n",
       "    .dataframe tbody tr th:only-of-type {\n",
       "        vertical-align: middle;\n",
       "    }\n",
       "\n",
       "    .dataframe tbody tr th {\n",
       "        vertical-align: top;\n",
       "    }\n",
       "\n",
       "    .dataframe thead th {\n",
       "        text-align: right;\n",
       "    }\n",
       "</style>\n",
       "<table border=\"1\" class=\"dataframe\">\n",
       "  <thead>\n",
       "    <tr style=\"text-align: right;\">\n",
       "      <th></th>\n",
       "      <th>household_key</th>\n",
       "      <th>BASKET_ID</th>\n",
       "      <th>DAY</th>\n",
       "      <th>PRODUCT_ID</th>\n",
       "      <th>QUANTITY</th>\n",
       "      <th>SALES_VALUE</th>\n",
       "      <th>STORE_ID</th>\n",
       "      <th>WEEK_NO</th>\n",
       "      <th>total_discount</th>\n",
       "      <th>percentage_discount</th>\n",
       "    </tr>\n",
       "  </thead>\n",
       "  <tbody>\n",
       "    <tr>\n",
       "      <th>0</th>\n",
       "      <td>1364</td>\n",
       "      <td>26984896261</td>\n",
       "      <td>1</td>\n",
       "      <td>842930</td>\n",
       "      <td>1</td>\n",
       "      <td>2.19</td>\n",
       "      <td>31742</td>\n",
       "      <td>1</td>\n",
       "      <td>0.00</td>\n",
       "      <td>0.000000</td>\n",
       "    </tr>\n",
       "    <tr>\n",
       "      <th>1</th>\n",
       "      <td>1364</td>\n",
       "      <td>26984896261</td>\n",
       "      <td>1</td>\n",
       "      <td>897044</td>\n",
       "      <td>1</td>\n",
       "      <td>2.99</td>\n",
       "      <td>31742</td>\n",
       "      <td>1</td>\n",
       "      <td>-0.40</td>\n",
       "      <td>0.133779</td>\n",
       "    </tr>\n",
       "    <tr>\n",
       "      <th>2</th>\n",
       "      <td>1364</td>\n",
       "      <td>26984896261</td>\n",
       "      <td>1</td>\n",
       "      <td>920955</td>\n",
       "      <td>1</td>\n",
       "      <td>3.09</td>\n",
       "      <td>31742</td>\n",
       "      <td>1</td>\n",
       "      <td>0.00</td>\n",
       "      <td>0.000000</td>\n",
       "    </tr>\n",
       "    <tr>\n",
       "      <th>3</th>\n",
       "      <td>1364</td>\n",
       "      <td>26984896261</td>\n",
       "      <td>1</td>\n",
       "      <td>937406</td>\n",
       "      <td>1</td>\n",
       "      <td>2.50</td>\n",
       "      <td>31742</td>\n",
       "      <td>1</td>\n",
       "      <td>-0.99</td>\n",
       "      <td>0.396000</td>\n",
       "    </tr>\n",
       "    <tr>\n",
       "      <th>4</th>\n",
       "      <td>1364</td>\n",
       "      <td>26984896261</td>\n",
       "      <td>1</td>\n",
       "      <td>981760</td>\n",
       "      <td>1</td>\n",
       "      <td>0.60</td>\n",
       "      <td>31742</td>\n",
       "      <td>1</td>\n",
       "      <td>-0.79</td>\n",
       "      <td>1.000000</td>\n",
       "    </tr>\n",
       "    <tr>\n",
       "      <th>5</th>\n",
       "      <td>1130</td>\n",
       "      <td>26984905972</td>\n",
       "      <td>1</td>\n",
       "      <td>833715</td>\n",
       "      <td>2</td>\n",
       "      <td>0.34</td>\n",
       "      <td>31642</td>\n",
       "      <td>1</td>\n",
       "      <td>-0.32</td>\n",
       "      <td>0.941176</td>\n",
       "    </tr>\n",
       "    <tr>\n",
       "      <th>6</th>\n",
       "      <td>1130</td>\n",
       "      <td>26984905972</td>\n",
       "      <td>1</td>\n",
       "      <td>866950</td>\n",
       "      <td>2</td>\n",
       "      <td>0.34</td>\n",
       "      <td>31642</td>\n",
       "      <td>1</td>\n",
       "      <td>-0.32</td>\n",
       "      <td>0.941176</td>\n",
       "    </tr>\n",
       "    <tr>\n",
       "      <th>7</th>\n",
       "      <td>1130</td>\n",
       "      <td>26984905972</td>\n",
       "      <td>1</td>\n",
       "      <td>1022843</td>\n",
       "      <td>2</td>\n",
       "      <td>0.34</td>\n",
       "      <td>31642</td>\n",
       "      <td>1</td>\n",
       "      <td>-0.32</td>\n",
       "      <td>0.941176</td>\n",
       "    </tr>\n",
       "    <tr>\n",
       "      <th>8</th>\n",
       "      <td>1130</td>\n",
       "      <td>26984905972</td>\n",
       "      <td>1</td>\n",
       "      <td>1048462</td>\n",
       "      <td>1</td>\n",
       "      <td>1.19</td>\n",
       "      <td>31642</td>\n",
       "      <td>1</td>\n",
       "      <td>-0.80</td>\n",
       "      <td>0.672269</td>\n",
       "    </tr>\n",
       "    <tr>\n",
       "      <th>9</th>\n",
       "      <td>1130</td>\n",
       "      <td>26984905972</td>\n",
       "      <td>1</td>\n",
       "      <td>1071333</td>\n",
       "      <td>2</td>\n",
       "      <td>0.34</td>\n",
       "      <td>31642</td>\n",
       "      <td>1</td>\n",
       "      <td>-0.32</td>\n",
       "      <td>0.941176</td>\n",
       "    </tr>\n",
       "  </tbody>\n",
       "</table>\n",
       "</div>"
      ],
      "text/plain": [
       "   household_key    BASKET_ID  DAY  PRODUCT_ID  QUANTITY  SALES_VALUE   \n",
       "0           1364  26984896261    1      842930         1         2.19  \\\n",
       "1           1364  26984896261    1      897044         1         2.99   \n",
       "2           1364  26984896261    1      920955         1         3.09   \n",
       "3           1364  26984896261    1      937406         1         2.50   \n",
       "4           1364  26984896261    1      981760         1         0.60   \n",
       "5           1130  26984905972    1      833715         2         0.34   \n",
       "6           1130  26984905972    1      866950         2         0.34   \n",
       "7           1130  26984905972    1     1022843         2         0.34   \n",
       "8           1130  26984905972    1     1048462         1         1.19   \n",
       "9           1130  26984905972    1     1071333         2         0.34   \n",
       "\n",
       "   STORE_ID  WEEK_NO  total_discount  percentage_discount  \n",
       "0     31742        1            0.00             0.000000  \n",
       "1     31742        1           -0.40             0.133779  \n",
       "2     31742        1            0.00             0.000000  \n",
       "3     31742        1           -0.99             0.396000  \n",
       "4     31742        1           -0.79             1.000000  \n",
       "5     31642        1           -0.32             0.941176  \n",
       "6     31642        1           -0.32             0.941176  \n",
       "7     31642        1           -0.32             0.941176  \n",
       "8     31642        1           -0.80             0.672269  \n",
       "9     31642        1           -0.32             0.941176  "
      ]
     },
     "execution_count": 69,
     "metadata": {},
     "output_type": "execute_result"
    }
   ],
   "source": [
    "transactions.head(10)"
   ]
  },
  {
   "attachments": {},
   "cell_type": "markdown",
   "id": "7194e351",
   "metadata": {},
   "source": [
    "## Overall Statistics\n",
    "\n",
    "Calculate:\n",
    "\n",
    "* The total sales (sum of `SALES_VALUE`), \n",
    "* Total discount (sum of `total_discount`)\n",
    "* Overall percentage discount (sum of total_discount / sum of sales value)\n",
    "* Total quantity sold (sum of `QUANTITY`).\n",
    "* Max quantity sold in a single row. Inspect the row as well. Does this have a high discount percentage?\n",
    "* Total sales value per basket (sum of sales value / nunique basket_id).\n",
    "* Total sales value per household (sum of sales value / nunique household_key). "
   ]
  },
  {
   "cell_type": "code",
   "execution_count": 41,
   "id": "8b828816",
   "metadata": {},
   "outputs": [
    {
     "data": {
      "text/plain": [
       "6666243.5"
      ]
     },
     "execution_count": 41,
     "metadata": {},
     "output_type": "execute_result"
    }
   ],
   "source": [
    "transactions['SALES_VALUE'].sum().round(2)"
   ]
  },
  {
   "cell_type": "code",
   "execution_count": 70,
   "id": "4e041e76",
   "metadata": {},
   "outputs": [
    {
     "data": {
      "text/plain": [
       "-1178658.08"
      ]
     },
     "execution_count": 70,
     "metadata": {},
     "output_type": "execute_result"
    }
   ],
   "source": [
    "transactions['total_discount'].sum().round(2)"
   ]
  },
  {
   "cell_type": "code",
   "execution_count": 71,
   "id": "2250c8a8",
   "metadata": {},
   "outputs": [
    {
     "data": {
      "text/plain": [
       "-0.1768099350106248"
      ]
     },
     "execution_count": 71,
     "metadata": {},
     "output_type": "execute_result"
    }
   ],
   "source": [
    "transactions['total_discount'].sum() / transactions['SALES_VALUE'].sum()"
   ]
  },
  {
   "attachments": {},
   "cell_type": "markdown",
   "id": "89016a20",
   "metadata": {},
   "source": [
    "## Household Analysis\n",
    "\n",
    "* Plot the distribution of total sales value purchased at the household level. \n",
    "* What were the top 10 households by quantity purchased?\n",
    "* What were the top 10 households by sales value?\n",
    "* Plot the total sales value for our top 10 households by value, ordered from highest to lowest.\n"
   ]
  },
  {
   "cell_type": "code",
   "execution_count": 75,
   "id": "c3e70a6b",
   "metadata": {},
   "outputs": [
    {
     "data": {
      "image/png": "[encoded data removed]",
      "text/plain": [
       "<Figure size 640x480 with 1 Axes>"
      ]
     },
     "metadata": {},
     "output_type": "display_data"
    }
   ],
   "source": [
    "(transactions\n",
    " .groupby(['household_key'])\n",
    " .agg({'SALES_VALUE':'sum'})\n",
    " .plot.hist()\n",
    ");"
   ]
  },
  {
   "cell_type": "code",
   "execution_count": 88,
   "id": "966a0453",
   "metadata": {},
   "outputs": [],
   "source": [
    "top10_quntity = (transactions\n",
    " .groupby(['household_key'])\n",
    " .agg({'QUANTITY':'sum'})\n",
    " .sort_values(by='QUANTITY', ascending=False)\n",
    " .iloc[:10]\n",
    ")\n",
    "\n",
    "top10_sales_value = (transactions\n",
    " .groupby(['household_key'])\n",
    " .agg({'SALES_VALUE':'sum'})\n",
    " .sort_values(by='SALES_VALUE', ascending=False)\n",
    " .iloc[:10]\n",
    ")"
   ]
  },
  {
   "cell_type": "code",
   "execution_count": 87,
   "id": "b138d306",
   "metadata": {},
   "outputs": [
    {
     "data": {
      "text/plain": [
       "<Axes: xlabel='household_key'>"
      ]
     },
     "execution_count": 87,
     "metadata": {},
     "output_type": "execute_result"
    },
    {
     "data": {
      "image/png": "[encoded data removed]",
      "text/plain": [
       "<Figure size 640x480 with 1 Axes>"
      ]
     },
     "metadata": {},
     "output_type": "display_data"
    }
   ],
   "source": [
    "top10_sales_value.plot.bar()"
   ]
  },
  {
   "attachments": {},
   "cell_type": "markdown",
   "id": "24204c05",
   "metadata": {},
   "source": [
    "## Product Analysis\n",
    "\n",
    "* Which products had the most sales by sales_value? Plot  a horizontal bar chart.\n",
    "* Did the top 10 selling items have a higher than average discount rate?\n",
    "* What was the most common `PRODUCT_ID` among rows with the households in our top 10 households by sales value?\n",
    "* Look up the names of the  top 10 products by sales in the `products.csv` dataset.\n",
    "* Look up the product name of the item that had the highest quantity sold in a single row."
   ]
  },
  {
   "cell_type": "code",
   "execution_count": 27,
   "id": "b78a084a",
   "metadata": {},
   "outputs": [],
   "source": [
    "top10_products_by_sales = (transactions\n",
    "    .pivot_table(\n",
    "        index= 'PRODUCT_ID',\n",
    "        values = 'SALES_VALUE',\n",
    "        aggfunc='sum')\n",
    "    .sort_values(\n",
    "        by= 'SALES_VALUE',\n",
    "        ascending= False)\n",
    "    .iloc[:10]\n",
    " )\n",
    "\n",
    "top10_products_by_sales['SALES_VALUE'].sort_values().plot.barh()"
   ]
  },
  {
   "cell_type": "code",
   "execution_count": 29,
   "id": "d09ad840",
   "metadata": {},
   "outputs": [
    {
     "data": {
      "text/plain": [
       "-0.5491553088065988"
      ]
     },
     "execution_count": 29,
     "metadata": {},
     "output_type": "execute_result"
    }
   ],
   "source": [
    "#Need to be work\n",
    "transactions['total_discount'].mean()"
   ]
  },
  {
   "cell_type": "code",
   "execution_count": 30,
   "id": "420c0bef",
   "metadata": {},
   "outputs": [
    {
     "data": {
      "text/html": [
       "<div>\n",
       "<style scoped>\n",
       "    .dataframe tbody tr th:only-of-type {\n",
       "        vertical-align: middle;\n",
       "    }\n",
       "\n",
       "    .dataframe tbody tr th {\n",
       "        vertical-align: top;\n",
       "    }\n",
       "\n",
       "    .dataframe thead th {\n",
       "        text-align: right;\n",
       "    }\n",
       "</style>\n",
       "<table border=\"1\" class=\"dataframe\">\n",
       "  <thead>\n",
       "    <tr style=\"text-align: right;\">\n",
       "      <th></th>\n",
       "      <th>PRODUCT_ID</th>\n",
       "      <th>MANUFACTURER</th>\n",
       "      <th>DEPARTMENT</th>\n",
       "      <th>BRAND</th>\n",
       "      <th>COMMODITY_DESC</th>\n",
       "      <th>SUB_COMMODITY_DESC</th>\n",
       "      <th>CURR_SIZE_OF_PRODUCT</th>\n",
       "    </tr>\n",
       "  </thead>\n",
       "  <tbody>\n",
       "    <tr>\n",
       "      <th>0</th>\n",
       "      <td>25671</td>\n",
       "      <td>2</td>\n",
       "      <td>GROCERY</td>\n",
       "      <td>National</td>\n",
       "      <td>FRZN ICE</td>\n",
       "      <td>ICE - CRUSHED/CUBED</td>\n",
       "      <td>22 LB</td>\n",
       "    </tr>\n",
       "    <tr>\n",
       "      <th>1</th>\n",
       "      <td>26081</td>\n",
       "      <td>2</td>\n",
       "      <td>MISC. TRANS.</td>\n",
       "      <td>National</td>\n",
       "      <td>NO COMMODITY DESCRIPTION</td>\n",
       "      <td>NO SUBCOMMODITY DESCRIPTION</td>\n",
       "      <td></td>\n",
       "    </tr>\n",
       "    <tr>\n",
       "      <th>2</th>\n",
       "      <td>26093</td>\n",
       "      <td>69</td>\n",
       "      <td>PASTRY</td>\n",
       "      <td>Private</td>\n",
       "      <td>BREAD</td>\n",
       "      <td>BREAD:ITALIAN/FRENCH</td>\n",
       "      <td></td>\n",
       "    </tr>\n",
       "    <tr>\n",
       "      <th>3</th>\n",
       "      <td>26190</td>\n",
       "      <td>69</td>\n",
       "      <td>GROCERY</td>\n",
       "      <td>Private</td>\n",
       "      <td>FRUIT - SHELF STABLE</td>\n",
       "      <td>APPLE SAUCE</td>\n",
       "      <td>50 OZ</td>\n",
       "    </tr>\n",
       "    <tr>\n",
       "      <th>4</th>\n",
       "      <td>26355</td>\n",
       "      <td>69</td>\n",
       "      <td>GROCERY</td>\n",
       "      <td>Private</td>\n",
       "      <td>COOKIES/CONES</td>\n",
       "      <td>SPECIALTY COOKIES</td>\n",
       "      <td>14 OZ</td>\n",
       "    </tr>\n",
       "  </tbody>\n",
       "</table>\n",
       "</div>"
      ],
      "text/plain": [
       "   PRODUCT_ID  MANUFACTURER    DEPARTMENT     BRAND            COMMODITY_DESC   \n",
       "0       25671             2       GROCERY  National                  FRZN ICE  \\\n",
       "1       26081             2  MISC. TRANS.  National  NO COMMODITY DESCRIPTION   \n",
       "2       26093            69        PASTRY   Private                     BREAD   \n",
       "3       26190            69       GROCERY   Private      FRUIT - SHELF STABLE   \n",
       "4       26355            69       GROCERY   Private             COOKIES/CONES   \n",
       "\n",
       "            SUB_COMMODITY_DESC CURR_SIZE_OF_PRODUCT  \n",
       "0          ICE - CRUSHED/CUBED                22 LB  \n",
       "1  NO SUBCOMMODITY DESCRIPTION                       \n",
       "2         BREAD:ITALIAN/FRENCH                       \n",
       "3                  APPLE SAUCE                50 OZ  \n",
       "4            SPECIALTY COOKIES                14 OZ  "
      ]
     },
     "execution_count": 30,
     "metadata": {},
     "output_type": "execute_result"
    }
   ],
   "source": [
    "products = pd.read_csv(\"../project_data/product.csv\")"
   ]
  },
  {
   "cell_type": "code",
   "execution_count": 38,
   "id": "9432ef8c",
   "metadata": {},
   "outputs": [
    {
     "data": {
      "text/html": [
       "<div>\n",
       "<style scoped>\n",
       "    .dataframe tbody tr th:only-of-type {\n",
       "        vertical-align: middle;\n",
       "    }\n",
       "\n",
       "    .dataframe tbody tr th {\n",
       "        vertical-align: top;\n",
       "    }\n",
       "\n",
       "    .dataframe thead th {\n",
       "        text-align: right;\n",
       "    }\n",
       "</style>\n",
       "<table border=\"1\" class=\"dataframe\">\n",
       "  <thead>\n",
       "    <tr style=\"text-align: right;\">\n",
       "      <th></th>\n",
       "      <th>household_key</th>\n",
       "      <th>BASKET_ID</th>\n",
       "      <th>DAY</th>\n",
       "      <th>PRODUCT_ID</th>\n",
       "      <th>QUANTITY</th>\n",
       "      <th>SALES_VALUE</th>\n",
       "      <th>STORE_ID</th>\n",
       "      <th>WEEK_NO</th>\n",
       "      <th>total_discount</th>\n",
       "      <th>percentage_discount</th>\n",
       "    </tr>\n",
       "  </thead>\n",
       "  <tbody>\n",
       "    <tr>\n",
       "      <th>0</th>\n",
       "      <td>1364</td>\n",
       "      <td>26984896261</td>\n",
       "      <td>1</td>\n",
       "      <td>842930</td>\n",
       "      <td>1</td>\n",
       "      <td>2.19</td>\n",
       "      <td>31742</td>\n",
       "      <td>1</td>\n",
       "      <td>0.00</td>\n",
       "      <td>0.000000</td>\n",
       "    </tr>\n",
       "    <tr>\n",
       "      <th>1</th>\n",
       "      <td>1364</td>\n",
       "      <td>26984896261</td>\n",
       "      <td>1</td>\n",
       "      <td>897044</td>\n",
       "      <td>1</td>\n",
       "      <td>2.99</td>\n",
       "      <td>31742</td>\n",
       "      <td>1</td>\n",
       "      <td>-0.40</td>\n",
       "      <td>0.133779</td>\n",
       "    </tr>\n",
       "    <tr>\n",
       "      <th>2</th>\n",
       "      <td>1364</td>\n",
       "      <td>26984896261</td>\n",
       "      <td>1</td>\n",
       "      <td>920955</td>\n",
       "      <td>1</td>\n",
       "      <td>3.09</td>\n",
       "      <td>31742</td>\n",
       "      <td>1</td>\n",
       "      <td>0.00</td>\n",
       "      <td>0.000000</td>\n",
       "    </tr>\n",
       "    <tr>\n",
       "      <th>3</th>\n",
       "      <td>1364</td>\n",
       "      <td>26984896261</td>\n",
       "      <td>1</td>\n",
       "      <td>937406</td>\n",
       "      <td>1</td>\n",
       "      <td>2.50</td>\n",
       "      <td>31742</td>\n",
       "      <td>1</td>\n",
       "      <td>-0.99</td>\n",
       "      <td>0.396000</td>\n",
       "    </tr>\n",
       "    <tr>\n",
       "      <th>4</th>\n",
       "      <td>1364</td>\n",
       "      <td>26984896261</td>\n",
       "      <td>1</td>\n",
       "      <td>981760</td>\n",
       "      <td>1</td>\n",
       "      <td>0.60</td>\n",
       "      <td>31742</td>\n",
       "      <td>1</td>\n",
       "      <td>-0.79</td>\n",
       "      <td>1.000000</td>\n",
       "    </tr>\n",
       "  </tbody>\n",
       "</table>\n",
       "</div>"
      ],
      "text/plain": [
       "   household_key    BASKET_ID  DAY  PRODUCT_ID  QUANTITY  SALES_VALUE   \n",
       "0           1364  26984896261    1      842930         1         2.19  \\\n",
       "1           1364  26984896261    1      897044         1         2.99   \n",
       "2           1364  26984896261    1      920955         1         3.09   \n",
       "3           1364  26984896261    1      937406         1         2.50   \n",
       "4           1364  26984896261    1      981760         1         0.60   \n",
       "\n",
       "   STORE_ID  WEEK_NO  total_discount  percentage_discount  \n",
       "0     31742        1            0.00             0.000000  \n",
       "1     31742        1           -0.40             0.133779  \n",
       "2     31742        1            0.00             0.000000  \n",
       "3     31742        1           -0.99             0.396000  \n",
       "4     31742        1           -0.79             1.000000  "
      ]
     },
     "execution_count": 38,
     "metadata": {},
     "output_type": "execute_result"
    }
   ],
   "source": [
    "transactions.head()"
   ]
  },
  {
   "cell_type": "code",
   "execution_count": 48,
   "id": "37bbfbd7",
   "metadata": {},
   "outputs": [
    {
     "data": {
      "text/plain": [
       "Index([1082185, 6534178, 1029743,  995242, 1106523, 5569230,  916122, 6533765,\n",
       "       6533889, 6534166],\n",
       "      dtype='int64', name='PRODUCT_ID')"
      ]
     },
     "execution_count": 48,
     "metadata": {},
     "output_type": "execute_result"
    }
   ],
   "source": [
    "top_hh_products = (transactions\n",
    "                   .query(\"PRODUCT_ID in @top10_products_by_sales.index\")\n",
    "                   .loc[:, \"PRODUCT_ID\"]\n",
    "                   .value_counts()\n",
    "                   .iloc[:10]\n",
    "                   .index)\n",
    "top_hh_products\n"
   ]
  },
  {
   "cell_type": "code",
   "execution_count": 49,
   "id": "c9fac843",
   "metadata": {},
   "outputs": [
    {
     "data": {
      "text/html": [
       "<div>\n",
       "<style scoped>\n",
       "    .dataframe tbody tr th:only-of-type {\n",
       "        vertical-align: middle;\n",
       "    }\n",
       "\n",
       "    .dataframe tbody tr th {\n",
       "        vertical-align: top;\n",
       "    }\n",
       "\n",
       "    .dataframe thead th {\n",
       "        text-align: right;\n",
       "    }\n",
       "</style>\n",
       "<table border=\"1\" class=\"dataframe\">\n",
       "  <thead>\n",
       "    <tr style=\"text-align: right;\">\n",
       "      <th></th>\n",
       "      <th>PRODUCT_ID</th>\n",
       "      <th>MANUFACTURER</th>\n",
       "      <th>DEPARTMENT</th>\n",
       "      <th>BRAND</th>\n",
       "      <th>COMMODITY_DESC</th>\n",
       "      <th>SUB_COMMODITY_DESC</th>\n",
       "      <th>CURR_SIZE_OF_PRODUCT</th>\n",
       "    </tr>\n",
       "  </thead>\n",
       "  <tbody>\n",
       "    <tr>\n",
       "      <th>16863</th>\n",
       "      <td>916122</td>\n",
       "      <td>4314</td>\n",
       "      <td>MEAT</td>\n",
       "      <td>National</td>\n",
       "      <td>CHICKEN</td>\n",
       "      <td>CHICKEN BREAST BONELESS</td>\n",
       "      <td></td>\n",
       "    </tr>\n",
       "    <tr>\n",
       "      <th>25754</th>\n",
       "      <td>995242</td>\n",
       "      <td>69</td>\n",
       "      <td>GROCERY</td>\n",
       "      <td>Private</td>\n",
       "      <td>FLUID MILK PRODUCTS</td>\n",
       "      <td>FLUID MILK WHITE ONLY</td>\n",
       "      <td></td>\n",
       "    </tr>\n",
       "    <tr>\n",
       "      <th>29657</th>\n",
       "      <td>1029743</td>\n",
       "      <td>69</td>\n",
       "      <td>GROCERY</td>\n",
       "      <td>Private</td>\n",
       "      <td>FLUID MILK PRODUCTS</td>\n",
       "      <td>FLUID MILK WHITE ONLY</td>\n",
       "      <td>1 GA</td>\n",
       "    </tr>\n",
       "    <tr>\n",
       "      <th>35576</th>\n",
       "      <td>1082185</td>\n",
       "      <td>2</td>\n",
       "      <td>PRODUCE</td>\n",
       "      <td>National</td>\n",
       "      <td>TROPICAL FRUIT</td>\n",
       "      <td>BANANAS</td>\n",
       "      <td>40 LB</td>\n",
       "    </tr>\n",
       "    <tr>\n",
       "      <th>38262</th>\n",
       "      <td>1106523</td>\n",
       "      <td>69</td>\n",
       "      <td>GROCERY</td>\n",
       "      <td>Private</td>\n",
       "      <td>FLUID MILK PRODUCTS</td>\n",
       "      <td>FLUID MILK WHITE ONLY</td>\n",
       "      <td>1 GA</td>\n",
       "    </tr>\n",
       "    <tr>\n",
       "      <th>53097</th>\n",
       "      <td>5569230</td>\n",
       "      <td>1208</td>\n",
       "      <td>GROCERY</td>\n",
       "      <td>National</td>\n",
       "      <td>SOFT DRINKS</td>\n",
       "      <td>SOFT DRINKS 12/18&amp;15PK CAN CAR</td>\n",
       "      <td>12 OZ</td>\n",
       "    </tr>\n",
       "    <tr>\n",
       "      <th>57171</th>\n",
       "      <td>6533765</td>\n",
       "      <td>69</td>\n",
       "      <td>KIOSK-GAS</td>\n",
       "      <td>Private</td>\n",
       "      <td>FUEL</td>\n",
       "      <td>GASOLINE-REG UNLEADED</td>\n",
       "      <td></td>\n",
       "    </tr>\n",
       "    <tr>\n",
       "      <th>57181</th>\n",
       "      <td>6533889</td>\n",
       "      <td>69</td>\n",
       "      <td>MISC SALES TRAN</td>\n",
       "      <td>Private</td>\n",
       "      <td>COUPON/MISC ITEMS</td>\n",
       "      <td>GASOLINE-REG UNLEADED</td>\n",
       "      <td></td>\n",
       "    </tr>\n",
       "    <tr>\n",
       "      <th>57216</th>\n",
       "      <td>6534166</td>\n",
       "      <td>69</td>\n",
       "      <td>MISC SALES TRAN</td>\n",
       "      <td>Private</td>\n",
       "      <td>COUPON/MISC ITEMS</td>\n",
       "      <td>GASOLINE-REG UNLEADED</td>\n",
       "      <td></td>\n",
       "    </tr>\n",
       "    <tr>\n",
       "      <th>57221</th>\n",
       "      <td>6534178</td>\n",
       "      <td>69</td>\n",
       "      <td>KIOSK-GAS</td>\n",
       "      <td>Private</td>\n",
       "      <td>COUPON/MISC ITEMS</td>\n",
       "      <td>GASOLINE-REG UNLEADED</td>\n",
       "      <td></td>\n",
       "    </tr>\n",
       "  </tbody>\n",
       "</table>\n",
       "</div>"
      ],
      "text/plain": [
       "       PRODUCT_ID  MANUFACTURER       DEPARTMENT     BRAND   \n",
       "16863      916122          4314             MEAT  National  \\\n",
       "25754      995242            69          GROCERY   Private   \n",
       "29657     1029743            69          GROCERY   Private   \n",
       "35576     1082185             2          PRODUCE  National   \n",
       "38262     1106523            69          GROCERY   Private   \n",
       "53097     5569230          1208          GROCERY  National   \n",
       "57171     6533765            69        KIOSK-GAS   Private   \n",
       "57181     6533889            69  MISC SALES TRAN   Private   \n",
       "57216     6534166            69  MISC SALES TRAN   Private   \n",
       "57221     6534178            69        KIOSK-GAS   Private   \n",
       "\n",
       "            COMMODITY_DESC              SUB_COMMODITY_DESC   \n",
       "16863              CHICKEN         CHICKEN BREAST BONELESS  \\\n",
       "25754  FLUID MILK PRODUCTS           FLUID MILK WHITE ONLY   \n",
       "29657  FLUID MILK PRODUCTS           FLUID MILK WHITE ONLY   \n",
       "35576       TROPICAL FRUIT                         BANANAS   \n",
       "38262  FLUID MILK PRODUCTS           FLUID MILK WHITE ONLY   \n",
       "53097          SOFT DRINKS  SOFT DRINKS 12/18&15PK CAN CAR   \n",
       "57171                 FUEL           GASOLINE-REG UNLEADED   \n",
       "57181    COUPON/MISC ITEMS           GASOLINE-REG UNLEADED   \n",
       "57216    COUPON/MISC ITEMS           GASOLINE-REG UNLEADED   \n",
       "57221    COUPON/MISC ITEMS           GASOLINE-REG UNLEADED   \n",
       "\n",
       "      CURR_SIZE_OF_PRODUCT  \n",
       "16863                       \n",
       "25754                       \n",
       "29657                 1 GA  \n",
       "35576                40 LB  \n",
       "38262                 1 GA  \n",
       "53097                12 OZ  \n",
       "57171                       \n",
       "57181                       \n",
       "57216                       \n",
       "57221                       "
      ]
     },
     "execution_count": 49,
     "metadata": {},
     "output_type": "execute_result"
    }
   ],
   "source": [
    "products.query(\"PRODUCT_ID in @top_hh_products\")"
   ]
  }
 ],
 "metadata": {
  "kernelspec": {
   "display_name": "Python 3 (ipykernel)",
   "language": "python",
   "name": "python3"
  },
  "language_info": {
   "codemirror_mode": {
    "name": "ipython",
    "version": 3
   },
   "file_extension": ".py",
   "mimetype": "text/x-python",
   "name": "python",
   "nbconvert_exporter": "python",
   "pygments_lexer": "ipython3",
   "version": "3.11.3"
  }
 },
 "nbformat": 4,
 "nbformat_minor": 5
}
